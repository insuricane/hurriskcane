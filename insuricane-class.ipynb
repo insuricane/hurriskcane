{
 "cells": [
  {
   "cell_type": "markdown",
   "metadata": {},
   "source": [
    "# Path of destruction\n",
    "\n",
    "Python script to import Hurricane data and a heuristical model for estimating home damage. We use data for Hurricane Irma from last year in our case study.\n",
    "\n",
    "---\n",
    "\n",
    "### Hurricane Irma \n",
    "September 8, 2017, 12 Zulu, Created @ ~9AM EST data forecasts\n",
    "\n",
    "Source: https://www.nhc.noaa.gov/gis/archive_forecast_results.php?id=al11&year=2017&name=Hurricane%20IRMA  \n",
    "File1: al112017_5day_037.zip (8:59 AM)    \n",
    "File2: al112017_fcst_037.zip (9:00 AM)"
   ]
  },
  {
   "cell_type": "code",
   "execution_count": 1,
   "metadata": {},
   "outputs": [],
   "source": [
    "# import packages\n",
    "import pandas as pd \n",
    "import numpy as np\n",
    "import datetime\n",
    "import matplotlib.pyplot as plt\n",
    "import seaborn as sns\n",
    "\n",
    "import geojson\n",
    "from geojson import Point, Feature, FeatureCollection, dump\n",
    "from shapely.geometry import shape, Point\n",
    "from geopy.distance import geodesic\n",
    "import tempfile\n",
    "import fiona\n",
    "\n",
    "import warnings\n",
    "warnings.filterwarnings('ignore')"
   ]
  },
  {
   "cell_type": "markdown",
   "metadata": {},
   "source": [
    "Import data from NOAA"
   ]
  },
  {
   "cell_type": "code",
   "execution_count": 2,
   "metadata": {},
   "outputs": [],
   "source": [
    "HURRICANE_PATH = './al112017_5day_037/al112017-037_5day_lin.shp'\n",
    "HURRICANE_ERROR_CONE = './al112017_5day_037/al112017-037_5day_pgn.shp'\n",
    "HURRICANE_WIND_RADII = './al112017_fcst_037/al112017_2017090809_forecastradii.shp'"
   ]
  },
  {
   "cell_type": "code",
   "execution_count": 3,
   "metadata": {},
   "outputs": [],
   "source": [
    "# path of hurricane\n",
    "def create_path():\n",
    "    path = fiona.open(HURRICANE_PATH)\n",
    "    first_path = path.next()\n",
    "\n",
    "    path_features = []\n",
    "    # entire path of hurricane\n",
    "    path_features.append(Feature(geometry = first_path['geometry'], properties = {\"hurricane\": \"Irma\"}))\n",
    "\n",
    "    # add more features...\n",
    "    for i in range(0, 6):\n",
    "        point = Point(first_path['geometry']['coordinates'][i])\n",
    "        day = str(datetime.date(2017, 9, 8) + datetime.timedelta(i))\n",
    "        # 5d predictions\n",
    "        path_features.append(Feature(geometry = point, properties = {\"day\": day}))\n",
    "    return path_features"
   ]
  },
  {
   "cell_type": "code",
   "execution_count": 4,
   "metadata": {},
   "outputs": [],
   "source": [
    "# hurricane cone\n",
    "def create_cone():\n",
    "    cone = fiona.open(HURRICANE_ERROR_CONE)\n",
    "    first_cone = cone.next()\n",
    "    cone_features = []\n",
    "    cone_features.append(Feature(geometry = first_cone['geometry'], properties={\"shape\": \"Prediction\"})) \n",
    "    return cone_features"
   ]
  },
  {
   "cell_type": "code",
   "execution_count": 5,
   "metadata": {},
   "outputs": [],
   "source": [
    "# hurricane wind radii\n",
    "def create_radii():\n",
    "    radius = fiona.open(HURRICANE_WIND_RADII)\n",
    "    radius_features = []\n",
    "    for i in range(len(radius)):\n",
    "        rad_num = radius[i]\n",
    "        radius_features.append(Feature(geometry = rad_num['geometry'], properties = {\"shape\": \"Prediction\"})) \n",
    "\n",
    "    return radius_features"
   ]
  },
  {
   "cell_type": "code",
   "execution_count": 6,
   "metadata": {},
   "outputs": [],
   "source": [
    "path_features = create_path()\n",
    "cone_features = create_cone()\n",
    "radius_features = create_radii()"
   ]
  },
  {
   "cell_type": "code",
   "execution_count": 7,
   "metadata": {},
   "outputs": [],
   "source": [
    "# dump data for Kepler\n",
    "def generate_kepler_data():\n",
    "    with open('./geojson/path.geojson', 'w') as f:\n",
    "        dump(FeatureCollection(path_features), f)\n",
    "    \n",
    "    with open('./geojson/cone.geojson', 'w') as f:\n",
    "        dump(FeatureCollection(cone_features), f)\n",
    "\n",
    "    with open('./geojson/radii.geojson', 'w') as f:\n",
    "        dump(FeatureCollection(radius_features), f)\n",
    "        \n",
    "generate_kepler_data()"
   ]
  },
  {
   "cell_type": "markdown",
   "metadata": {},
   "source": [
    "Input data class and Point initialization for latitude longitude. Let's use Key West."
   ]
  },
  {
   "cell_type": "code",
   "execution_count": 8,
   "metadata": {},
   "outputs": [],
   "source": [
    "# class structure\n",
    "class Insuricane():\n",
    "    \n",
    "    ### Initialization\n",
    "    def __init__(self, name, Point, \n",
    "                 base_date = datetime.date(2017, 9, 8),\n",
    "                 path_features = path_features, \n",
    "                 cone_features = cone_features,\n",
    "                 radius_features = radius_features):\n",
    "        self.name = name\n",
    "        self.point = Point\n",
    "        self.date = base_date # base date\n",
    "        self.path_features = path_features\n",
    "        self.cone_features = cone_features\n",
    "        self.radius_features = radius_features\n",
    "        \n",
    "        self.daymap = {0: [0, 1, 2],\n",
    "                     1: [3, 4, 5],\n",
    "                     2: [6, 7, 8], \n",
    "                     3: [9, 10, 11],\n",
    "                     4: [12, 13], \n",
    "                     5: [14, 15]}\n",
    "        \n",
    "    def get_day_num(self, day):\n",
    "        return min(5, (day - self.date).days)\n",
    "\n",
    "    ### Calculating locations with our geojson data\n",
    "    # which radii is it in for wind?\n",
    "    def find_in_radius(self, day, suppressPrint = False):\n",
    "        found = []\n",
    "        counter = 0\n",
    "        radius_subset = self.daymap[self.get_day_num(day)]\n",
    "        for i in radius_subset:\n",
    "            counter = counter + 1\n",
    "            polygon = shape(self.radius_features[i].geometry)\n",
    "\n",
    "            if(polygon.contains(self.point)):\n",
    "                point_num = 1 if (counter == 0) else (-1 if (counter == len(radius_subset) - 1) else 0)\n",
    "                point_name = 'fastest' if (counter == 0) else ('slowest' if (counter == len(radius_subset) - 1) else 'middle')\n",
    "\n",
    "                if (suppressPrint == False):\n",
    "                    print('Found your location on day {} at {} wind radius'.format(\n",
    "                        self.get_day_num(day), point_name))\n",
    "                found = found + [point_num] # days separate\n",
    "        return found\n",
    "\n",
    "    # closest radii\n",
    "    def find_distance_circle(self, day):\n",
    "        point_coord = (self.point.coords.xy[0][0], self.point.coords.xy[1][0])\n",
    "        found = {}\n",
    "        counter = 0\n",
    "        radius_subset = self.daymap[self.get_day_num(day)]\n",
    "        for i in radius_subset:\n",
    "            counter = counter + 1\n",
    "            polygon = shape(self.radius_features[i].geometry)            \n",
    "            point_num = 1 if (counter == 0) else (-1 if (counter == len(radius_subset) - 1) else 0)\n",
    "\n",
    "            if(polygon.contains(self.point)):\n",
    "                found[point_num] = '' # don't include ones we're in\n",
    "            else:\n",
    "                found[point_num] = min([geodesic(point_coord, j).miles for j in polygon.exterior.coords])\n",
    "        return found\n",
    "    \n",
    "    # distance to the eye on a given day\n",
    "    def find_distance_eye(self, day):\n",
    "        point_coord = (self.point.coords.xy[0][0], self.point.coords.xy[1][0])\n",
    "        return geodesic(point_coord, \n",
    "                        tuple(path_features[self.get_day_num(day) + 1]['geometry']['coordinates'])).miles\n",
    "    \n",
    "    \n",
    "    ### We want this to be able to change per day. We have the eye by day, we have radii by day.\n",
    "    # radius weighting\n",
    "    def __calc_radius_weight(self, day, **kwargs):\n",
    "        radius_found = self.find_in_radius(day, **kwargs)\n",
    "        try:\n",
    "            radius_weight = 0.35 + float(max(radius_found) * 0.1) # 0.45, 0.35, 0.25\n",
    "        except: # none were found - outside all of the radii\n",
    "            radius_weight = 0\n",
    "        return radius_weight\n",
    "\n",
    "    # loop weighting\n",
    "    def __calc_circle_weight(self, day, **kwargs):\n",
    "        radius_found = self.find_in_radius(day, **kwargs)\n",
    "        dist = self.find_distance_circle(day)\n",
    "        try:\n",
    "            if (max(radius_found) == 1):\n",
    "                radii_distance_weight = 0.2\n",
    "            else:\n",
    "                radii_distance_weight = (1 - dist[max(radius_found) + 1]/100) * (0.1 + 0.05 * max(radius_found))\n",
    "        except: # none were found - outside all of the radii\n",
    "            try:\n",
    "                radii_distance_weight = (1 - dist[-1]/100) * 0.05\n",
    "            except:\n",
    "                radii_distance_weight = 0.025\n",
    "        return radii_distance_weight\n",
    "\n",
    "    ### Actual value 'heuristics' model\n",
    "    # chance your house is destroyed\n",
    "    def __calc_chance_hurricane(self, day, **kwargs):\n",
    "        distance_weight = (1 - self.find_distance_eye(day)/1000) * 0.35\n",
    "        return (\n",
    "            max(distance_weight, 0) + \n",
    "            max(self.__calc_radius_weight(day, **kwargs), 0) + \n",
    "            max(self.__calc_circle_weight(day, **kwargs), 0))\n",
    "    \n",
    "    # does this for each of the 5 days\n",
    "    def calc_risk(self, **kwargs):\n",
    "        hurrichance = {}\n",
    "        for i in range(7):\n",
    "            second_day = self.date + datetime.timedelta(i) # increment days\n",
    "            hurrichance[second_day] = self.__calc_chance_hurricane(second_day, **kwargs)\n",
    "        hurrichance = pd.DataFrame(hurrichance, index = ['chance']).T\n",
    "        return hurrichance.applymap(lambda x: 0 if (x < 0) else x)\n",
    "    \n",
    "    # maximum chance of a hurricane\n",
    "    def calc_max_hurricane(self):\n",
    "        hurricane_a1 = self.calc_risk(suppressPrint = True) # never print for this\n",
    "        hurricane_a1 = hurricane_a1[hurricane_a1.index != min(hurricane_a1.index)]\n",
    "        hurricane_temp = hurricane_a1[hurricane_a1['chance'] == max(hurricane_a1['chance'])]\n",
    "        return (hurricane_temp['chance'])\n",
    "\n",
    "    # plot hurricane chance\n",
    "    def plot_irmachance(self, alpha = 0.5):\n",
    "        hurricane_ts = self.calc_risk(suppressPrint = True)\n",
    "\n",
    "        hurricane_df = hurricane_ts[datetime.date(2017, 9, 9):]\n",
    "        hurricane_df['ewm'] = hurricane_df.ewm(alpha).mean()\n",
    "        hurricane_df = hurricane_df.applymap(lambda x: 100 * x)\n",
    "\n",
    "        sns.set(font_scale = 1.1)\n",
    "        sns.set_style('whitegrid')\n",
    "        plt.figure(figsize = (8, 6))\n",
    "        plt.plot(hurricane_df['chance'], marker = 'o', color = '#4285f4', alpha = 0.75, label = 'Chance of hurricane')\n",
    "        plt.plot(hurricane_df['ewm'], linestyle = '--', color = '#DC143C', alpha = 0.5, label = 'Rolling likelihood')\n",
    "        plt.xticks(rotation = -15)\n",
    "        plt.xlabel('Date')\n",
    "        plt.ylabel('Chance of hurricane')\n",
    "        plt.title('Chance of {} homes destroyed'.format(self.name))\n",
    "\n",
    "        plt.plot(self.calc_max_hurricane().index.values[0], \n",
    "                 self.calc_max_hurricane().values[0] * 100, \n",
    "                 color = '#4285f4', marker = 's', linestyle = 'none', label='Riskiest day')\n",
    "\n",
    "        plt.legend()\n",
    "        plt.show()"
   ]
  },
  {
   "cell_type": "code",
   "execution_count": 9,
   "metadata": {},
   "outputs": [],
   "source": [
    "# initialize\n",
    "BCG = Insuricane('Disney', Point((-81.38144, 28.54434)))"
   ]
  },
  {
   "cell_type": "code",
   "execution_count": 10,
   "metadata": {},
   "outputs": [
    {
     "data": {
      "text/html": [
       "<div>\n",
       "<style scoped>\n",
       "    .dataframe tbody tr th:only-of-type {\n",
       "        vertical-align: middle;\n",
       "    }\n",
       "\n",
       "    .dataframe tbody tr th {\n",
       "        vertical-align: top;\n",
       "    }\n",
       "\n",
       "    .dataframe thead th {\n",
       "        text-align: right;\n",
       "    }\n",
       "</style>\n",
       "<table border=\"1\" class=\"dataframe\">\n",
       "  <thead>\n",
       "    <tr style=\"text-align: right;\">\n",
       "      <th></th>\n",
       "      <th>chance</th>\n",
       "    </tr>\n",
       "  </thead>\n",
       "  <tbody>\n",
       "    <tr>\n",
       "      <th>2017-09-08</th>\n",
       "      <td>0.162809</td>\n",
       "    </tr>\n",
       "    <tr>\n",
       "      <th>2017-09-09</th>\n",
       "      <td>0.208797</td>\n",
       "    </tr>\n",
       "    <tr>\n",
       "      <th>2017-09-10</th>\n",
       "      <td>0.259316</td>\n",
       "    </tr>\n",
       "    <tr>\n",
       "      <th>2017-09-11</th>\n",
       "      <td>0.318054</td>\n",
       "    </tr>\n",
       "    <tr>\n",
       "      <th>2017-09-12</th>\n",
       "      <td>0.366242</td>\n",
       "    </tr>\n",
       "    <tr>\n",
       "      <th>2017-09-13</th>\n",
       "      <td>0.721513</td>\n",
       "    </tr>\n",
       "    <tr>\n",
       "      <th>2017-09-14</th>\n",
       "      <td>0.721513</td>\n",
       "    </tr>\n",
       "  </tbody>\n",
       "</table>\n",
       "</div>"
      ],
      "text/plain": [
       "              chance\n",
       "2017-09-08  0.162809\n",
       "2017-09-09  0.208797\n",
       "2017-09-10  0.259316\n",
       "2017-09-11  0.318054\n",
       "2017-09-12  0.366242\n",
       "2017-09-13  0.721513\n",
       "2017-09-14  0.721513"
      ]
     },
     "execution_count": 10,
     "metadata": {},
     "output_type": "execute_result"
    }
   ],
   "source": [
    "# chance of hurricane\n",
    "BCG.calc_risk(suppressPrint = True)"
   ]
  },
  {
   "cell_type": "code",
   "execution_count": 11,
   "metadata": {},
   "outputs": [
    {
     "data": {
      "text/plain": [
       "2017-09-13    0.721513\n",
       "2017-09-14    0.721513\n",
       "Name: chance, dtype: float64"
      ]
     },
     "execution_count": 11,
     "metadata": {},
     "output_type": "execute_result"
    }
   ],
   "source": [
    "# most dangerous day\n",
    "BCG.calc_max_hurricane()"
   ]
  },
  {
   "cell_type": "code",
   "execution_count": null,
   "metadata": {},
   "outputs": [],
   "source": [
    "# plot graph\n",
    "BCG.plot_irmachance()"
   ]
  },
  {
   "cell_type": "code",
   "execution_count": null,
   "metadata": {},
   "outputs": [],
   "source": []
  },
  {
   "cell_type": "code",
   "execution_count": null,
   "metadata": {},
   "outputs": [],
   "source": [
    " "
   ]
  }
 ],
 "metadata": {
  "kernelspec": {
   "display_name": "Python 3",
   "language": "python",
   "name": "python3"
  },
  "language_info": {
   "codemirror_mode": {
    "name": "ipython",
    "version": 3
   },
   "file_extension": ".py",
   "mimetype": "text/x-python",
   "name": "python",
   "nbconvert_exporter": "python",
   "pygments_lexer": "ipython3",
   "version": "3.7.0"
  }
 },
 "nbformat": 4,
 "nbformat_minor": 2
}
