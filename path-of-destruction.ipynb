{
 "cells": [
  {
   "cell_type": "markdown",
   "metadata": {},
   "source": [
    "# Path of destruction\n",
    "\n",
    "Python script to import Hurricane data and a heuristical model for estimating home damage. We use data for Hurricane Irma from last year in our case study.\n",
    "\n",
    "---\n",
    "\n",
    "### Hurricane Irma \n",
    "September 8, 2017, 12 Zulu, Created @ ~9AM EST data forecasts\n",
    "\n",
    "Source: https://www.nhc.noaa.gov/gis/archive_forecast_results.php?id=al11&year=2017&name=Hurricane%20IRMA  \n",
    "File1: al112017_5day_037.zip (8:59 AM)    \n",
    "File2: al112017_fcst_037.zip (9:00 AM)"
   ]
  },
  {
   "cell_type": "code",
   "execution_count": 1,
   "metadata": {},
   "outputs": [],
   "source": [
    "# import packages\n",
    "import pandas as pd \n",
    "import numpy as np\n",
    "import datetime\n",
    "import matplotlib.pyplot as plt\n",
    "import seaborn as sns\n",
    "\n",
    "import geojson\n",
    "from geojson import Point, Feature, FeatureCollection, dump\n",
    "from shapely.geometry import shape, Point\n",
    "from geopy.distance import geodesic\n",
    "import tempfile\n",
    "import fiona\n",
    "\n",
    "import warnings\n",
    "warnings.filterwarnings('ignore')"
   ]
  },
  {
   "cell_type": "markdown",
   "metadata": {},
   "source": [
    "Import data from NOAA"
   ]
  },
  {
   "cell_type": "code",
   "execution_count": 2,
   "metadata": {},
   "outputs": [],
   "source": [
    "HURRICANE_PATH = './al112017_5day_037/al112017-037_5day_lin.shp'\n",
    "HURRICANE_ERROR_CONE = './al112017_5day_037/al112017-037_5day_pgn.shp'\n",
    "HURRICANE_WIND_RADII = './al112017_fcst_037/al112017_2017090809_forecastradii.shp'"
   ]
  },
  {
   "cell_type": "code",
   "execution_count": 3,
   "metadata": {},
   "outputs": [],
   "source": [
    "# path of hurricane\n",
    "path = fiona.open(HURRICANE_PATH)\n",
    "first_path = path.next()\n",
    "\n",
    "path_features = []\n",
    "# entire path of hurricane\n",
    "path_features.append(Feature(geometry = first_path['geometry'], properties = {\"hurricane\": \"Irma\"}))\n",
    "\n",
    "# add more features...\n",
    "for i in range(0, 6):\n",
    "    point = Point(first_path['geometry']['coordinates'][i])\n",
    "    day = str(datetime.date(2008, 9, 10) + datetime.timedelta(i))\n",
    "    # 5d predictions\n",
    "    path_features.append(Feature(geometry = point, properties = {\"day\": day}))"
   ]
  },
  {
   "cell_type": "code",
   "execution_count": 4,
   "metadata": {},
   "outputs": [],
   "source": [
    "# hurricane cone\n",
    "cone = fiona.open(HURRICANE_ERROR_CONE)\n",
    "first_cone = cone.next()\n",
    "cone_features = []\n",
    "cone_features.append(Feature(geometry = first_cone['geometry'], properties={\"shape\": \"Prediction\"})) "
   ]
  },
  {
   "cell_type": "code",
   "execution_count": 33,
   "metadata": {},
   "outputs": [],
   "source": [
    "# hurricane wind radii\n",
    "radius = fiona.open(HURRICANE_WIND_RADII)\n",
    "radius_features = []\n",
    "for i in range(len(radius)):\n",
    "    rad_num = radius[i]\n",
    "    radius_features.append(Feature(geometry = rad_num['geometry'], properties = {\"shape\": \"Prediction\"})) \n",
    "\n",
    "## TODO: change by color\n",
    "\n",
    "# process radii data - 3, 3, 3, 3, 2, 2 of radii\n",
    "def apply_radius_list(radius_features):\n",
    "    radius_df = {}\n",
    "    for i in [0, 1, 2, 3]:\n",
    "        radius_df[i] = [radius_features[j] for j in range(i, i + 3)]\n",
    "    for i in [4, 5]:\n",
    "        radius_df[i] = [radius_features[j] for j in range(i, i + 2)]\n",
    "#         ['geometry']['coordinates'][0]\n",
    "    return radius_df\n",
    "\n",
    "radius_data = apply_radius_list(radius_features)"
   ]
  },
  {
   "cell_type": "code",
   "execution_count": 34,
   "metadata": {},
   "outputs": [],
   "source": [
    "# dump data for Kepler\n",
    "def generate_kepler_data():\n",
    "    with open('./geojson/path.geojson', 'w') as f:\n",
    "        dump(FeatureCollection(path_features), f)\n",
    "    \n",
    "    with open('./geojson/cone.geojson', 'w') as f:\n",
    "        dump(FeatureCollection(cone_features), f)\n",
    "\n",
    "    with open('./geojson/radii.geojson', 'w') as f:\n",
    "        dump(FeatureCollection(radius_features), f)\n",
    "        \n",
    "generate_kepler_data()"
   ]
  },
  {
   "cell_type": "markdown",
   "metadata": {},
   "source": [
    "Input data class and Point initialization for latitude longitude. Let's use Key West."
   ]
  },
  {
   "cell_type": "code",
   "execution_count": 118,
   "metadata": {},
   "outputs": [
    {
     "data": {
      "text/plain": [
       "2"
      ]
     },
     "execution_count": 118,
     "metadata": {},
     "output_type": "execute_result"
    }
   ],
   "source": [
    "KeyWest = Point((-81.47, 24.33))\n",
    "KeyWest = Point((-75.34144, 22.12434))\n",
    "day = datetime.date(2018, 9, 12)\n",
    "day_num = (day - datetime.date(2018, 9, 10)).days\n",
    "day_num"
   ]
  },
  {
   "cell_type": "code",
   "execution_count": 119,
   "metadata": {},
   "outputs": [
    {
     "name": "stdout",
     "output_type": "stream",
     "text": [
      "Found your location on day 2 at middle wind radius\n",
      "Found your location on day 2 at slowest wind radius\n"
     ]
    },
    {
     "data": {
      "text/plain": [
       "[0, -1]"
      ]
     },
     "execution_count": 119,
     "metadata": {},
     "output_type": "execute_result"
    }
   ],
   "source": [
    "# # in radius\n",
    "# def find_in_radius(point = KeyWest, day_num = day_num):\n",
    "#     found = []\n",
    "#     radius_subset = radius_data[day_num]\n",
    "#     for i in range(len(radius_subset)):\n",
    "#         polygon = shape(radius_subset[i].geometry)\n",
    "#         if(polygon.contains(point)):\n",
    "#             point_num = 1 if (i == 0) else (-1 if (i == len(radius_subset) - 1) else 0)\n",
    "#             point_name = 'fastest' if (i == 0) else ('slowest' if (i == len(radius_subset) - 1) else 'middle')\n",
    "#             print('Found your location on day {} at {} wind radius'.format(day_num, point_name))\n",
    "#             found.append(point_num) # days separate\n",
    "#     return found\n",
    "\n",
    "# # Missing days?\n",
    "# find_in_radius(KeyWest, 2)"
   ]
  },
  {
   "cell_type": "code",
   "execution_count": 120,
   "metadata": {},
   "outputs": [
    {
     "data": {
      "text/plain": [
       "{1: 39.267639897961516, 0: '', -1: ''}"
      ]
     },
     "execution_count": 120,
     "metadata": {},
     "output_type": "execute_result"
    }
   ],
   "source": [
    "# # find distances to each circle\n",
    "# def find_distance_circle(point = KeyWest, day_num = day_num):\n",
    "#     point_coord = (point.coords.xy[0][0], point.coords.xy[1][0])\n",
    "#     found = {}\n",
    "#     radius_subset = radius_data[day_num]\n",
    "#     for i in range(len(radius_subset)):\n",
    "#         polygon = shape(radius_subset[i].geometry)\n",
    "#         point_num = 1 if (i == 0) else (-1 if (i == len(radius_subset) - 1) else 0)\n",
    "\n",
    "#         if(polygon.contains(point)):\n",
    "#             found[point_num] = '' # don't include ones we're in\n",
    "#         else:\n",
    "#             found[point_num] = min([geodesic(point_coord, j).miles for j in polygon.exterior.coords]) # min distance\n",
    "#     return found\n",
    "\n",
    "# find_distance_circle(day_num = 2)"
   ]
  },
  {
   "cell_type": "code",
   "execution_count": 122,
   "metadata": {},
   "outputs": [
    {
     "data": {
      "text/plain": [
       "170.71001715803928"
      ]
     },
     "execution_count": 122,
     "metadata": {},
     "output_type": "execute_result"
    }
   ],
   "source": [
    "# # find distances to the eye\n",
    "# def find_distance_eye(point = KeyWest, day_num = day_num):\n",
    "#     point_coord = (point.coords.xy[0][0], point.coords.xy[1][0])\n",
    "#     return geodesic(point_coord, tuple(path_features[day_num + 1]['geometry']['coordinates'])).miles\n",
    "\n",
    "# find_distance_eye()"
   ]
  },
  {
   "cell_type": "markdown",
   "metadata": {},
   "source": [
    "# model specification\n",
    "- is it contained in the first radius\n",
    "- if not, second radius?\n",
    "- if not, 3rd radius?\n",
    "- nearest radius it is not contained to's distance\n",
    "- distance from the eye"
   ]
  },
  {
   "cell_type": "code",
   "execution_count": 200,
   "metadata": {},
   "outputs": [],
   "source": [
    "day_num = 4"
   ]
  },
  {
   "cell_type": "code",
   "execution_count": 208,
   "metadata": {},
   "outputs": [
    {
     "name": "stdout",
     "output_type": "stream",
     "text": [
      "Found your location on day 4 at fastest wind radius\n",
      "Found your location on day 4 at slowest wind radius\n"
     ]
    },
    {
     "data": {
      "text/plain": [
       "0.35"
      ]
     },
     "execution_count": 208,
     "metadata": {},
     "output_type": "execute_result"
    }
   ],
   "source": [
    "# at most 30% boost\n",
    "radius_found = find_in_radius(KeyWest, day_num)\n",
    "try:\n",
    "    radius_weight = 0.25 + float(max(radius_found) * 0.1) # 0.35, 0.25, 0.15\n",
    "except: # none were found - outside all of the radii\n",
    "    radius_weight = 0\n",
    "radius_weight"
   ]
  },
  {
   "cell_type": "code",
   "execution_count": 209,
   "metadata": {},
   "outputs": [
    {
     "data": {
      "text/plain": [
       "0.4"
      ]
     },
     "execution_count": 209,
     "metadata": {},
     "output_type": "execute_result"
    }
   ],
   "source": [
    "# # nearest radius\n",
    "# # radius_found = [1, 0, -1]\n",
    "# # at most 0.4\n",
    "# dist = find_distance_circle(KeyWest, day_num)\n",
    "# try:\n",
    "#     if (max(radius_found) == 1):\n",
    "#         radii_distance_weight = 0.4\n",
    "#     else:\n",
    "#         radii_distance_weight = (1 - dist[max(radius_found) + 1]/100) * (0.3 + 0.1 * max(radius_found))\n",
    "# except: # none were found - outside all of the radii\n",
    "#     radii_distance_weight = (1 - dist[max(radius_found) + 1]/100) * 0.1\n",
    "# radii_distance_weight"
   ]
  },
  {
   "cell_type": "code",
   "execution_count": 214,
   "metadata": {},
   "outputs": [
    {
     "data": {
      "text/plain": [
       "0.1618612790555361"
      ]
     },
     "execution_count": 214,
     "metadata": {},
     "output_type": "execute_result"
    }
   ],
   "source": [
    "# distance_weight = (1 - find_distance_eye(KeyWest, day_num)/1000) * 0.25\n",
    "# distance_weight"
   ]
  },
  {
   "cell_type": "code",
   "execution_count": 215,
   "metadata": {},
   "outputs": [
    {
     "data": {
      "text/plain": [
       "0.9118612790555362"
      ]
     },
     "execution_count": 215,
     "metadata": {},
     "output_type": "execute_result"
    }
   ],
   "source": [
    "# # total \n",
    "# distance_weight + radii_distance_weight + radius_weight"
   ]
  },
  {
   "cell_type": "code",
   "execution_count": null,
   "metadata": {},
   "outputs": [],
   "source": []
  },
  {
   "cell_type": "code",
   "execution_count": 399,
   "metadata": {},
   "outputs": [],
   "source": [
    "# class structure\n",
    "class Insuricane():\n",
    "    \n",
    "    ### Initialization\n",
    "    def __init__(self, Point, \n",
    "                 base_date = datetime.date(2017, 9, 8),\n",
    "                 path_features = path_features, \n",
    "                 cone_features = cone_features, \n",
    "                 radius_data = radius_data):\n",
    "        self.date = base_date # base date\n",
    "        self.point = Point\n",
    "        self.path_features = path_features\n",
    "        self.cone_features = cone_features\n",
    "        self.radius_data = radius_data\n",
    "        \n",
    "    def get_day_num(self, day):\n",
    "        return min(5, (day - self.date).days)\n",
    "\n",
    "    ### Calculating locations with our geojson data\n",
    "    # which radii is it in for wind?\n",
    "    def find_in_radius(self, day, suppressPrint = False):\n",
    "        found = []\n",
    "        radius_subset = self.radius_data[self.get_day_num(day)]\n",
    "        for i in range(len(radius_subset)):\n",
    "            polygon = shape(radius_subset[i].geometry)\n",
    "            if(polygon.contains(point)):\n",
    "                point_num = 1 if (i == 0) else (-1 if (i == len(radius_subset) - 1) else 0)\n",
    "                point_name = 'fastest' if (i == 0) else ('slowest' if (i == len(radius_subset) - 1) else 'middle')\n",
    "                \n",
    "                if (suppressPrint == False):\n",
    "                    print('Found your location on day {} at {} wind radius'.format(\n",
    "                        self.get_day_num(day), point_name))\n",
    "                found.append(point_num) # days separate\n",
    "        return found\n",
    "    \n",
    "    # closest radii\n",
    "    def find_distance_circle(self, day):\n",
    "        point_coord = (self.point.coords.xy[0][0], self.point.coords.xy[1][0])\n",
    "        found = {}\n",
    "        radius_subset = self.radius_data[self.get_day_num(day)]\n",
    "        for i in range(len(radius_subset)):\n",
    "            polygon = shape(radius_subset[i].geometry)\n",
    "            point_num = 1 if (i == 0) else (-1 if (i == len(radius_subset) - 1) else 0)\n",
    "\n",
    "            if(polygon.contains(point)):\n",
    "                found[point_num] = '' # don't include ones we're in\n",
    "            else:\n",
    "                found[point_num] = min([geodesic(point_coord, j).miles for j in polygon.exterior.coords])\n",
    "        return found\n",
    "    \n",
    "    # distance to the eye on a given day\n",
    "    def find_distance_eye(self, day):\n",
    "        point_coord = (self.point.coords.xy[0][0], self.point.coords.xy[1][0])\n",
    "        return geodesic(point_coord, \n",
    "                        tuple(path_features[self.get_day_num(day) + 1]['geometry']['coordinates'])).miles\n",
    "    \n",
    "    \n",
    "    ### We want this to be able to change per day. We have the eye by day, we have radii by day.\n",
    "    # radius weighting\n",
    "    def __calc_radius_weight(self, day, **kwargs):\n",
    "        radius_found = self.find_in_radius(day, **kwargs)\n",
    "        try:\n",
    "            radius_weight = 0.25 + float(max(radius_found) * 0.1) # 0.35, 0.25, 0.15\n",
    "        except: # none were found - outside all of the radii\n",
    "            radius_weight = 0\n",
    "        return radius_weight\n",
    "\n",
    "    # loop weighting\n",
    "    def __calc_circle_weight(self, day, **kwargs):\n",
    "        radius_found = self.find_in_radius(day, **kwargs)\n",
    "        dist = self.find_distance_circle(day)\n",
    "        try:\n",
    "            if (max(radius_found) == 1):\n",
    "                radii_distance_weight = 0.4\n",
    "            else:\n",
    "                radii_distance_weight = (1 - dist[max(radius_found) + 1]/100) * (0.3 + 0.1 * max(radius_found))\n",
    "        except: # none were found - outside all of the radii\n",
    "            radii_distance_weight = (1 - dist[max(radius_found) + 1]/100) * 0.1\n",
    "        return radii_distance_weight\n",
    "\n",
    "    ### Actual value 'heuristics' model\n",
    "    # chance your house is destroyed\n",
    "    def __calc_chance_hurricane(self, day, **kwargs):\n",
    "        distance_weight = (1 - self.find_distance_eye(day)/1000) * 0.25\n",
    "        return distance_weight + self.__calc_radius_weight(day, **kwargs) + self.__calc_circle_weight(day, **kwargs)\n",
    "    \n",
    "    # does this for each of the 5 days\n",
    "    def calc_risk(self, **kwargs):\n",
    "        hurrichance = {}\n",
    "        for i in range(7):\n",
    "            second_day = self.date + datetime.timedelta(i) # increment days\n",
    "            hurrichance[second_day] = self.__calc_chance_hurricane(second_day, **kwargs)\n",
    "        return pd.DataFrame(hurrichance, index = ['chance']).T\n",
    "    \n",
    "    # maximum chance of a hurricane\n",
    "    def calc_max_hurricane(self):\n",
    "        hurricane_a1 = self.calc_risk(suppressPrint = True) # never print for this\n",
    "        hurricane_a1 = hurricane_a1[hurricane_a1.index != min(hurricane_a1.index)]\n",
    "        hurricane_temp = hurricane_a1[hurricane_a1['chance'] == max(hurricane_a1['chance'])]\n",
    "        return (hurricane_temp['chance'])"
   ]
  },
  {
   "cell_type": "code",
   "execution_count": 400,
   "metadata": {},
   "outputs": [],
   "source": [
    "# initialize\n",
    "BCG = Insuricane(KeyWest)"
   ]
  },
  {
   "cell_type": "code",
   "execution_count": 457,
   "metadata": {},
   "outputs": [
    {
     "data": {
      "text/html": [
       "<div>\n",
       "<style scoped>\n",
       "    .dataframe tbody tr th:only-of-type {\n",
       "        vertical-align: middle;\n",
       "    }\n",
       "\n",
       "    .dataframe tbody tr th {\n",
       "        vertical-align: top;\n",
       "    }\n",
       "\n",
       "    .dataframe thead th {\n",
       "        text-align: right;\n",
       "    }\n",
       "</style>\n",
       "<table border=\"1\" class=\"dataframe\">\n",
       "  <thead>\n",
       "    <tr style=\"text-align: right;\">\n",
       "      <th></th>\n",
       "      <th>chance</th>\n",
       "    </tr>\n",
       "  </thead>\n",
       "  <tbody>\n",
       "    <tr>\n",
       "      <th>2017-09-08</th>\n",
       "      <td>0.973202</td>\n",
       "    </tr>\n",
       "    <tr>\n",
       "      <th>2017-09-09</th>\n",
       "      <td>0.515246</td>\n",
       "    </tr>\n",
       "    <tr>\n",
       "      <th>2017-09-10</th>\n",
       "      <td>0.639520</td>\n",
       "    </tr>\n",
       "    <tr>\n",
       "      <th>2017-09-11</th>\n",
       "      <td>0.929477</td>\n",
       "    </tr>\n",
       "    <tr>\n",
       "      <th>2017-09-12</th>\n",
       "      <td>0.911861</td>\n",
       "    </tr>\n",
       "    <tr>\n",
       "      <th>2017-09-13</th>\n",
       "      <td>0.891382</td>\n",
       "    </tr>\n",
       "    <tr>\n",
       "      <th>2017-09-14</th>\n",
       "      <td>0.891382</td>\n",
       "    </tr>\n",
       "  </tbody>\n",
       "</table>\n",
       "</div>"
      ],
      "text/plain": [
       "              chance\n",
       "2017-09-08  0.973202\n",
       "2017-09-09  0.515246\n",
       "2017-09-10  0.639520\n",
       "2017-09-11  0.929477\n",
       "2017-09-12  0.911861\n",
       "2017-09-13  0.891382\n",
       "2017-09-14  0.891382"
      ]
     },
     "execution_count": 457,
     "metadata": {},
     "output_type": "execute_result"
    }
   ],
   "source": [
    "# chance of hurricane\n",
    "BCG.calc_risk(suppressPrint = True)"
   ]
  },
  {
   "cell_type": "code",
   "execution_count": 401,
   "metadata": {},
   "outputs": [
    {
     "data": {
      "text/plain": [
       "2017-09-11    0.929477\n",
       "Name: chance, dtype: float64"
      ]
     },
     "execution_count": 401,
     "metadata": {},
     "output_type": "execute_result"
    }
   ],
   "source": [
    "# most dangerous day\n",
    "BCG.calc_max_hurricane()"
   ]
  },
  {
   "cell_type": "code",
   "execution_count": 455,
   "metadata": {},
   "outputs": [],
   "source": [
    "# plot chance of getting owned by Irma\n",
    "def plot_irmachance(city = 'Key West', point = KeyWest, alpha = 0.5):\n",
    "    BCG = Insuricane(point)\n",
    "    hurricane_ts = BCG.calc_risk(suppressPrint = True)\n",
    "    \n",
    "    hurricane_df = hurricane_ts[datetime.date(2017, 9, 9):]\n",
    "    hurricane_df['ewm'] = hurricane_df.ewm(alpha).mean()\n",
    "    hurricane_df = hurricane_df.applymap(lambda x: 100 * x)\n",
    "\n",
    "    sns.set(font_scale = 1.1)\n",
    "    sns.set_style('whitegrid')\n",
    "    plt.figure(figsize = (8, 6))\n",
    "    plt.plot(hurricane_df['chance'], marker = 'o', color = '#4285f4', alpha = 0.75, label = 'Chance of hurricane')\n",
    "    plt.plot(hurricane_df['ewm'], linestyle = '--', color = '#DC143C', alpha = 0.5, label = 'Rolling likelihood')\n",
    "    plt.xticks(rotation = -15)\n",
    "    plt.xlabel('Date')\n",
    "    plt.ylabel('Chance of hurricane')\n",
    "    plt.title('Chance of {} homes destroyed'.format(city))\n",
    "    \n",
    "    plt.plot(BCG.calc_max_hurricane().index.values[0], \n",
    "             BCG.calc_max_hurricane().values[0] * 100, \n",
    "             color = '#4285f4', marker = 's', linestyle = 'none', label='Riskiest day')\n",
    "    \n",
    "    plt.legend()\n",
    "    plt.show()"
   ]
  },
  {
   "cell_type": "code",
   "execution_count": 456,
   "metadata": {},
   "outputs": [
    {
     "data": {
      "image/png": "[encoded data removed]",
      "text/plain": [
       "<Figure size 576x432 with 1 Axes>"
      ]
     },
     "metadata": {},
     "output_type": "display_data"
    }
   ],
   "source": [
    "plot_irmachance()"
   ]
  },
  {
   "cell_type": "code",
   "execution_count": null,
   "metadata": {},
   "outputs": [],
   "source": []
  }
 ],
 "metadata": {
  "kernelspec": {
   "display_name": "Python 3",
   "language": "python",
   "name": "python3"
  },
  "language_info": {
   "codemirror_mode": {
    "name": "ipython",
    "version": 3
   },
   "file_extension": ".py",
   "mimetype": "text/x-python",
   "name": "python",
   "nbconvert_exporter": "python",
   "pygments_lexer": "ipython3",
   "version": "3.7.0"
  }
 },
 "nbformat": 4,
 "nbformat_minor": 2
}
