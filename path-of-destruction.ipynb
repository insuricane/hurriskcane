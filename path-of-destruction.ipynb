{
 "cells": [
  {
   "cell_type": "markdown",
   "metadata": {},
   "source": [
    "# Path of destruction\n",
    "\n",
    "Python script to import Hurricane data and a heuristical model for estimating home damage. We use data for Hurricane Irma from last year in our case study.\n",
    "\n",
    "---\n",
    "\n",
    "### Hurricane Irma \n",
    "September 8, 2017, 12 Zulu, Created @ ~9AM EST data forecasts\n",
    "\n",
    "Source: https://www.nhc.noaa.gov/gis/archive_forecast_results.php?id=al11&year=2017&name=Hurricane%20IRMA  \n",
    "File1: al112017_5day_037.zip (8:59 AM)    \n",
    "File2: al112017_fcst_037.zip (9:00 AM)"
   ]
  },
  {
   "cell_type": "code",
   "execution_count": 1,
   "metadata": {},
   "outputs": [],
   "source": [
    "# import packages\n",
    "import pandas as pd \n",
    "import numpy as np\n",
    "import datetime\n",
    "import matplotlib.pyplot as plt\n",
    "import seaborn as sns\n",
    "\n",
    "import geojson\n",
    "from geojson import Point, Feature, FeatureCollection, dump\n",
    "from shapely.geometry import shape, Point\n",
    "from geopy.distance import geodesic\n",
    "import tempfile\n",
    "import fiona\n",
    "\n",
    "import warnings\n",
    "warnings.filterwarnings('ignore')"
   ]
  },
  {
   "cell_type": "markdown",
   "metadata": {},
   "source": [
    "Import data from NOAA"
   ]
  },
  {
   "cell_type": "code",
   "execution_count": 2,
   "metadata": {},
   "outputs": [],
   "source": [
    "HURRICANE_PATH = './al112017_5day_037/al112017-037_5day_lin.shp'\n",
    "HURRICANE_ERROR_CONE = './al112017_5day_037/al112017-037_5day_pgn.shp'\n",
    "HURRICANE_WIND_RADII = './al112017_fcst_037/al112017_2017090809_forecastradii.shp'"
   ]
  },
  {
   "cell_type": "code",
   "execution_count": 3,
   "metadata": {},
   "outputs": [],
   "source": [
    "# path of hurricane\n",
    "path = fiona.open(HURRICANE_PATH)\n",
    "first_path = path.next()\n",
    "\n",
    "path_features = []\n",
    "# entire path of hurricane\n",
    "path_features.append(Feature(geometry = first_path['geometry'], properties = {\"hurricane\": \"Irma\"}))\n",
    "\n",
    "# add more features...\n",
    "for i in range(0, 6):\n",
    "    point = Point(first_path['geometry']['coordinates'][i])\n",
    "    day = str(datetime.date(2008, 9, 10) + datetime.timedelta(i))\n",
    "    # 5d predictions\n",
    "    path_features.append(Feature(geometry = point, properties = {\"day\": day}))"
   ]
  },
  {
   "cell_type": "code",
   "execution_count": 4,
   "metadata": {},
   "outputs": [],
   "source": [
    "# hurricane cone\n",
    "cone = fiona.open(HURRICANE_ERROR_CONE)\n",
    "first_cone = cone.next()\n",
    "cone_features = []\n",
    "cone_features.append(Feature(geometry = first_cone['geometry'], properties={\"shape\": \"Prediction\"})) "
   ]
  },
  {
   "cell_type": "code",
   "execution_count": 42,
   "metadata": {},
   "outputs": [],
   "source": [
    "# hurricane wind radii\n",
    "radius = fiona.open(HURRICANE_WIND_RADII)\n",
    "radius_features = []\n",
    "for i in range(len(radius)):\n",
    "    rad_num = radius[i]\n",
    "    radius_features.append(Feature(geometry = rad_num['geometry'], properties = {\"shape\": \"Prediction\"})) \n",
    "\n",
    "## TODO: change by color\n",
    "\n",
    "# process radii data - 3, 3, 3, 3, 2, 2 of radii\n",
    "def apply_radius_list(radius_features):\n",
    "    radius_df = {}\n",
    "    for i in [0, 1, 2, 3]:\n",
    "        radius_df[i] = [radius_features[j] for j in range(i, i + 3)]\n",
    "    for i in [4, 5]:\n",
    "        radius_df[i] = [radius_features[j] for j in range(i, i + 2)]\n",
    "#         ['geometry']['coordinates'][0]\n",
    "    return radius_df\n",
    "\n",
    "radius_data = apply_radius_list(radius_features)"
   ]
  },
  {
   "cell_type": "code",
   "execution_count": 6,
   "metadata": {},
   "outputs": [],
   "source": [
    "# dump data for Kepler\n",
    "def generate_kepler_data():\n",
    "    with open('./geojson/path.geojson', 'w') as f:\n",
    "        dump(FeatureCollection(path_features), f)\n",
    "    \n",
    "    with open('./geojson/cone.geojson', 'w') as f:\n",
    "        dump(FeatureCollection(cone_features), f)\n",
    "\n",
    "    with open('./geojson/radii.geojson', 'w') as f:\n",
    "        dump(FeatureCollection(radius_features), f)\n",
    "        \n",
    "generate_kepler_data()"
   ]
  },
  {
   "cell_type": "markdown",
   "metadata": {},
   "source": [
    "Input data class and Point initialization for latitude longitude. Let's use Key West."
   ]
  },
  {
   "cell_type": "code",
   "execution_count": 7,
   "metadata": {},
   "outputs": [
    {
     "data": {
      "text/plain": [
       "2"
      ]
     },
     "execution_count": 7,
     "metadata": {},
     "output_type": "execute_result"
    }
   ],
   "source": [
    "KeyWest = Point((-81.47, 24.33))\n",
    "KeyWest = Point((-75.34144, 22.12434))\n",
    "day = datetime.date(2018, 9, 12)\n",
    "day_num = (day - datetime.date(2018, 9, 10)).days\n",
    "day_num"
   ]
  },
  {
   "cell_type": "code",
   "execution_count": 44,
   "metadata": {},
   "outputs": [
    {
     "data": {
      "text/plain": [
       "True"
      ]
     },
     "execution_count": 44,
     "metadata": {},
     "output_type": "execute_result"
    }
   ],
   "source": [
    "shape(radius_features[12].geometry).contains(Point((-79.94144, 24.82434)))"
   ]
  },
  {
   "cell_type": "code",
   "execution_count": 51,
   "metadata": {},
   "outputs": [],
   "source": [
    "funcer = "
   ]
  },
  {
   "cell_type": "code",
   "execution_count": 53,
   "metadata": {},
   "outputs": [
    {
     "name": "stdout",
     "output_type": "stream",
     "text": [
      "Found your location on day 5 at middle wind radius\n"
     ]
    },
    {
     "data": {
      "text/plain": [
       "[0]"
      ]
     },
     "execution_count": 53,
     "metadata": {},
     "output_type": "execute_result"
    }
   ],
   "source": [
    "# in radius\n",
    "def find_in_radius(point, day_num = day_num):\n",
    "    found = []\n",
    "    radius_subset = radius_data[day_num]\n",
    "    counter = 0\n",
    "    for i in funcer[day_num]:\n",
    "        counter = counter + 1\n",
    "        polygon = shape(radius_features[i].geometry)\n",
    "        if(polygon.contains(point)):\n",
    "            point_num = 1 if (i == 0) else (-1 if (i == len(radius_subset) - 1) else 0)\n",
    "            point_name = 'fastest' if (i == 0) else ('slowest' if (i == len(radius_subset) - 1) else 'middle')\n",
    "            print('Found your location on day {} at {} wind radius'.format(day_num, point_name))\n",
    "            found.append(point_num) # days separate\n",
    "    return found\n",
    "\n",
    "# Missing days?\n",
    "find_in_radius(Point((-79.94144, 24.82434)), 5)"
   ]
  },
  {
   "cell_type": "code",
   "execution_count": 9,
   "metadata": {},
   "outputs": [],
   "source": [
    "# # find distances to each circle\n",
    "# def find_distance_circle(point = KeyWest, day_num = day_num):\n",
    "#     point_coord = (point.coords.xy[0][0], point.coords.xy[1][0])\n",
    "#     found = {}\n",
    "#     radius_subset = radius_data[day_num]\n",
    "#     for i in range(len(radius_subset)):\n",
    "#         polygon = shape(radius_subset[i].geometry)\n",
    "#         point_num = 1 if (i == 0) else (-1 if (i == len(radius_subset) - 1) else 0)\n",
    "\n",
    "#         if(polygon.contains(point)):\n",
    "#             found[point_num] = '' # don't include ones we're in\n",
    "#         else:\n",
    "#             found[point_num] = min([geodesic(point_coord, j).miles for j in polygon.exterior.coords]) # min distance\n",
    "#     return found\n",
    "\n",
    "# find_distance_circle(day_num = 2)"
   ]
  },
  {
   "cell_type": "code",
   "execution_count": 10,
   "metadata": {},
   "outputs": [],
   "source": [
    "# # find distances to the eye\n",
    "# def find_distance_eye(point = KeyWest, day_num = day_num):\n",
    "#     point_coord = (point.coords.xy[0][0], point.coords.xy[1][0])\n",
    "#     return geodesic(point_coord, tuple(path_features[day_num + 1]['geometry']['coordinates'])).miles\n",
    "\n",
    "# find_distance_eye()"
   ]
  },
  {
   "cell_type": "markdown",
   "metadata": {},
   "source": [
    "# model specification\n",
    "- is it contained in the first radius\n",
    "- if not, second radius?\n",
    "- if not, 3rd radius?\n",
    "- nearest radius it is not contained to's distance\n",
    "- distance from the eye"
   ]
  },
  {
   "cell_type": "code",
   "execution_count": 11,
   "metadata": {},
   "outputs": [],
   "source": [
    "day_num = 4"
   ]
  },
  {
   "cell_type": "code",
   "execution_count": 12,
   "metadata": {},
   "outputs": [],
   "source": [
    "# # nearest radius\n",
    "# # radius_found = [1, 0, -1]\n",
    "# # at most 0.4\n",
    "# dist = find_distance_circle(KeyWest, day_num)\n",
    "# try:\n",
    "#     if (max(radius_found) == 1):\n",
    "#         radii_distance_weight = 0.4\n",
    "#     else:\n",
    "#         radii_distance_weight = (1 - dist[max(radius_found) + 1]/100) * (0.3 + 0.1 * max(radius_found))\n",
    "# except: # none were found - outside all of the radii\n",
    "#     radii_distance_weight = (1 - dist[max(radius_found) + 1]/100) * 0.1\n",
    "# radii_distance_weight"
   ]
  },
  {
   "cell_type": "code",
   "execution_count": 13,
   "metadata": {},
   "outputs": [],
   "source": [
    "# distance_weight = (1 - find_distance_eye(KeyWest, day_num)/1000) * 0.25\n",
    "# distance_weight"
   ]
  },
  {
   "cell_type": "code",
   "execution_count": 14,
   "metadata": {},
   "outputs": [],
   "source": [
    "# # total \n",
    "# distance_weight + radii_distance_weight + radius_weight"
   ]
  },
  {
   "cell_type": "code",
   "execution_count": null,
   "metadata": {},
   "outputs": [],
   "source": []
  },
  {
   "cell_type": "code",
   "execution_count": 15,
   "metadata": {},
   "outputs": [],
   "source": [
    "# class structure\n",
    "class Insuricane():\n",
    "    \n",
    "    ### Initialization\n",
    "    def __init__(self, Point, \n",
    "                 base_date = datetime.date(2017, 9, 8),\n",
    "                 path_features = path_features, \n",
    "                 cone_features = cone_features, \n",
    "                 radius_data = radius_data):\n",
    "        self.date = base_date # base date\n",
    "        self.point = Point\n",
    "        self.path_features = path_features\n",
    "        self.cone_features = cone_features\n",
    "        self.radius_data = radius_data\n",
    "        \n",
    "    def get_day_num(self, day):\n",
    "        return min(5, (day - self.date).days)\n",
    "\n",
    "    ### Calculating locations with our geojson data\n",
    "    # which radii is it in for wind?\n",
    "    def find_in_radius(self, day, suppressPrint = False):\n",
    "        found = []\n",
    "        radius_subset = self.radius_data[self.get_day_num(day)]\n",
    "        for i in range(len(radius_subset)):\n",
    "            polygon = shape(radius_subset[i].geometry)\n",
    "            if(polygon.contains(point)):\n",
    "                point_num = 1 if (i == 0) else (-1 if (i == len(radius_subset) - 1) else 0)\n",
    "                point_name = 'fastest' if (i == 0) else ('slowest' if (i == len(radius_subset) - 1) else 'middle')\n",
    "                \n",
    "                if (suppressPrint == False):\n",
    "                    print('Found your location on day {} at {} wind radius'.format(\n",
    "                        self.get_day_num(day), point_name))\n",
    "                found.append(point_num) # days separate\n",
    "        return found\n",
    "    \n",
    "    # closest radii\n",
    "    def find_distance_circle(self, day):\n",
    "        point_coord = (self.point.coords.xy[0][0], self.point.coords.xy[1][0])\n",
    "        found = {}\n",
    "        radius_subset = self.radius_data[self.get_day_num(day)]\n",
    "        for i in range(len(radius_subset)):\n",
    "            polygon = shape(radius_subset[i].geometry)\n",
    "            point_num = 1 if (i == 0) else (-1 if (i == len(radius_subset) - 1) else 0)\n",
    "\n",
    "            if(polygon.contains(point)):\n",
    "                found[point_num] = '' # don't include ones we're in\n",
    "            else:\n",
    "                found[point_num] = min([geodesic(point_coord, j).miles for j in polygon.exterior.coords])\n",
    "        return found\n",
    "    \n",
    "    # distance to the eye on a given day\n",
    "    def find_distance_eye(self, day):\n",
    "        point_coord = (self.point.coords.xy[0][0], self.point.coords.xy[1][0])\n",
    "        return geodesic(point_coord, \n",
    "                        tuple(path_features[self.get_day_num(day) + 1]['geometry']['coordinates'])).miles\n",
    "    \n",
    "    \n",
    "    ### We want this to be able to change per day. We have the eye by day, we have radii by day.\n",
    "    # radius weighting\n",
    "    def __calc_radius_weight(self, day, **kwargs):\n",
    "        radius_found = self.find_in_radius(day, **kwargs)\n",
    "        try:\n",
    "            radius_weight = 0.25 + float(max(radius_found) * 0.1) # 0.35, 0.25, 0.15\n",
    "        except: # none were found - outside all of the radii\n",
    "            radius_weight = 0\n",
    "        return radius_weight\n",
    "\n",
    "    # loop weighting\n",
    "    def __calc_circle_weight(self, day, **kwargs):\n",
    "        radius_found = self.find_in_radius(day, **kwargs)\n",
    "        dist = self.find_distance_circle(day)\n",
    "        try:\n",
    "            if (max(radius_found) == 1):\n",
    "                radii_distance_weight = 0.4\n",
    "            else:\n",
    "                radii_distance_weight = (1 - dist[max(radius_found) + 1]/100) * (0.3 + 0.1 * max(radius_found))\n",
    "        except: # none were found - outside all of the radii\n",
    "            radii_distance_weight = (1 - dist[max(radius_found) + 1]/100) * 0.1\n",
    "        return radii_distance_weight\n",
    "\n",
    "    ### Actual value 'heuristics' model\n",
    "    # chance your house is destroyed\n",
    "    def __calc_chance_hurricane(self, day, **kwargs):\n",
    "        distance_weight = (1 - self.find_distance_eye(day)/1000) * 0.25\n",
    "        return distance_weight + self.__calc_radius_weight(day, **kwargs) + self.__calc_circle_weight(day, **kwargs)\n",
    "    \n",
    "    # does this for each of the 5 days\n",
    "    def calc_risk(self, **kwargs):\n",
    "        hurrichance = {}\n",
    "        for i in range(7):\n",
    "            second_day = self.date + datetime.timedelta(i) # increment days\n",
    "            hurrichance[second_day] = self.__calc_chance_hurricane(second_day, **kwargs)\n",
    "        return pd.DataFrame(hurrichance, index = ['chance']).T\n",
    "    \n",
    "    # maximum chance of a hurricane\n",
    "    def calc_max_hurricane(self):\n",
    "        hurricane_a1 = self.calc_risk(suppressPrint = True) # never print for this\n",
    "        hurricane_a1 = hurricane_a1[hurricane_a1.index != min(hurricane_a1.index)]\n",
    "        hurricane_temp = hurricane_a1[hurricane_a1['chance'] == max(hurricane_a1['chance'])]\n",
    "        return (hurricane_temp['chance'])"
   ]
  },
  {
   "cell_type": "code",
   "execution_count": 16,
   "metadata": {},
   "outputs": [],
   "source": [
    "# initialize\n",
    "BCG = Insuricane(KeyWest)"
   ]
  },
  {
   "cell_type": "code",
   "execution_count": 17,
   "metadata": {},
   "outputs": [
    {
     "data": {
      "text/plain": [
       "{\"geometry\": {\"coordinates\": [[[-75.689735, 23.18136], [-75.669212, 23.181028], [-75.648697, 23.180365], [-75.628189, 23.179369], [-75.607712, 23.178043], [-75.587265, 23.176384], [-75.566849, 23.174397], [-75.546478, 23.172079], [-75.526146, 23.169432], [-75.505875, 23.166456], [-75.485664, 23.163153], [-75.465523, 23.159523], [-75.445457, 23.155569], [-75.425461, 23.151293], [-75.405556, 23.146692], [-75.385742, 23.141769], [-75.366028, 23.136528], [-75.346413, 23.130968], [-75.326912, 23.125093], [-75.307526, 23.118902], [-75.288261, 23.112398], [-75.269127, 23.105587], [-75.25013, 23.098465], [-75.231262, 23.091038], [-75.212547, 23.083307], [-75.193985, 23.075274], [-75.175583, 23.066942], [-75.157341, 23.058313], [-75.139267, 23.049393], [-75.121361, 23.04018], [-75.103645, 23.03068], [-75.086105, 23.020895], [-75.068764, 23.010826], [-75.05162, 23.000481], [-75.034668, 22.989857], [-75.017937, 22.978964], [-75.001404, 22.967798], [-74.985092, 22.956371], [-74.969002, 22.944679], [-74.95314, 22.93273], [-74.937508, 22.920527], [-74.922119, 22.908073], [-74.906967, 22.89537], [-74.892052, 22.882425], [-74.877403, 22.869242], [-74.862999, 22.855824], [-74.848854, 22.842175], [-74.834976, 22.828297], [-74.821358, 22.814199], [-74.808022, 22.799885], [-74.794952, 22.785355], [-74.782173, 22.770617], [-74.769669, 22.755671], [-74.757462, 22.74053], [-74.745537, 22.725191], [-74.73391, 22.709663], [-74.722572, 22.693949], [-74.711555, 22.678055], [-74.700829, 22.661983], [-74.690414, 22.645742], [-74.680305, 22.629335], [-74.670517, 22.612768], [-74.661041, 22.596043], [-74.651894, 22.579168], [-74.643059, 22.562149], [-74.634552, 22.544989], [-74.626373, 22.527695], [-74.618523, 22.510269], [-74.611015, 22.492722], [-74.603828, 22.475052], [-74.596985, 22.45727], [-74.590477, 22.439384], [-74.584312, 22.421391], [-74.578484, 22.403303], [-74.573006, 22.385122], [-74.567871, 22.366859], [-74.563087, 22.348511], [-74.558647, 22.330091], [-74.55455, 22.311604], [-74.550812, 22.293053], [-74.547424, 22.274441], [-74.54438, 22.255777], [-74.541702, 22.23707], [-74.539368, 22.218321], [-74.537399, 22.199537], [-74.535767, 22.180725], [-74.534508, 22.161888], [-74.5336, 22.143036], [-74.533043, 22.124168], [-74.532837, 22.105297], [-74.802284, 22.090294], [-74.80265, 22.075781], [-74.803291, 22.061274], [-74.804207, 22.046782], [-74.805382, 22.032305], [-74.806839, 22.017851], [-74.808571, 22.003422], [-74.81057, 21.989023], [-74.812836, 21.974657], [-74.815376, 21.960331], [-74.818184, 21.946051], [-74.821259, 21.931814], [-74.8246, 21.917631], [-74.828201, 21.903505], [-74.832077, 21.889439], [-74.83622, 21.875439], [-74.840607, 21.861504], [-74.845268, 21.847645], [-74.850182, 21.833862], [-74.855354, 21.820164], [-74.860786, 21.806549], [-74.86647, 21.793022], [-74.872406, 21.779594], [-74.878593, 21.766258], [-74.885025, 21.753027], [-74.891708, 21.739902], [-74.898628, 21.726889], [-74.905792, 21.713987], [-74.9132, 21.701204], [-74.920845, 21.688541], [-74.928726, 21.676006], [-74.936836, 21.663601], [-74.945175, 21.651327], [-74.953751, 21.639189], [-74.962547, 21.627193], [-74.971565, 21.615341], [-74.980804, 21.603636], [-74.990257, 21.592081], [-74.999924, 21.580683], [-75.009804, 21.569443], [-75.019897, 21.558363], [-75.03019, 21.547447], [-75.04068, 21.536699], [-75.051369, 21.526125], [-75.062256, 21.515722], [-75.073334, 21.505499], [-75.084602, 21.495459], [-75.096054, 21.4856], [-75.107689, 21.475927], [-75.119507, 21.466444], [-75.131493, 21.457153], [-75.143654, 21.448059], [-75.155975, 21.439161], [-75.168465, 21.430466], [-75.181114, 21.421972], [-75.193916, 21.413683], [-75.206871, 21.405603], [-75.219978, 21.397736], [-75.233223, 21.390081], [-75.246613, 21.382639], [-75.260132, 21.37542], [-75.273796, 21.368414], [-75.287575, 21.361633], [-75.301483, 21.355076], [-75.315514, 21.348745], [-75.329651, 21.342642], [-75.343903, 21.336769], [-75.358269, 21.331127], [-75.372726, 21.325718], [-75.387291, 21.320541], [-75.401947, 21.315603], [-75.416687, 21.310902], [-75.431519, 21.30644], [-75.446426, 21.302219], [-75.461411, 21.298241], [-75.476471, 21.294502], [-75.491592, 21.29101], [-75.506775, 21.287764], [-75.522026, 21.284761], [-75.537323, 21.282007], [-75.552673, 21.279501], [-75.568062, 21.277241], [-75.583488, 21.275234], [-75.598953, 21.273476], [-75.614449, 21.271965], [-75.629967, 21.270708], [-75.645508, 21.269701], [-75.661064, 21.268944], [-75.676636, 21.26844], [-75.692207, 21.268188], [-75.70546, 21.517733], [-75.716393, 21.51791], [-75.727303, 21.518263], [-75.738213, 21.518793], [-75.749115, 21.519497], [-75.759995, 21.52038], [-75.770859, 21.521439], [-75.7817, 21.522671], [-75.792519, 21.524082], [-75.803314, 21.525663], [-75.814072, 21.527422], [-75.824799, 21.529352], [-75.835487, 21.531458], [-75.846138, 21.533733], [-75.856735, 21.536182], [-75.867294, 21.538803], [-75.8778, 21.541592], [-75.888252, 21.544552], [-75.898643, 21.54768], [-75.908981, 21.550978], [-75.91925, 21.55444], [-75.929466, 21.558069], [-75.939598, 21.561859], [-75.949669, 21.565815], [-75.959656, 21.569935], [-75.969566, 21.574213], [-75.979401, 21.578653], [-75.989143, 21.58325], [-75.998802, 21.588003], [-76.008377, 21.592911], [-76.017853, 21.597975], [-76.027229, 21.603189], [-76.036514, 21.608559], [-76.045692, 21.614075], [-76.054771, 21.619736], [-76.063736, 21.625547], [-76.072601, 21.631502], [-76.081345, 21.637598], [-76.089981, 21.643833], [-76.098488, 21.650208], [-76.106895, 21.656721], [-76.115166, 21.663366], [-76.123306, 21.670147], [-76.131325, 21.677057], [-76.139214, 21.684097], [-76.146973, 21.691263], [-76.154587, 21.698549], [-76.162071, 21.705963], [-76.169418, 21.713495], [-76.17662, 21.721144], [-76.183678, 21.728909], [-76.19059, 21.736784], [-76.19735, 21.744774], [-76.203972, 21.752871], [-76.210426, 21.761072], [-76.216736, 21.769377], [-76.222885, 21.777782], [-76.228882, 21.786285], [-76.234703, 21.794888], [-76.240379, 21.803577], [-76.245888, 21.812361], [-76.251228, 21.821234], [-76.256401, 21.830187], [-76.261406, 21.839226], [-76.266243, 21.848345], [-76.270905, 21.857538], [-76.275398, 21.866806], [-76.279716, 21.876146], [-76.283859, 21.885553], [-76.287819, 21.895029], [-76.291611, 21.904564], [-76.295212, 21.91416], [-76.298637, 21.923813], [-76.30188, 21.933519], [-76.304939, 21.943277], [-76.307823, 21.953083], [-76.310516, 21.962934], [-76.313019, 21.972826], [-76.315346, 21.982758], [-76.317482, 21.992729], [-76.319427, 22.002728], [-76.321182, 22.012758], [-76.322754, 22.022818], [-76.324135, 22.032898], [-76.325333, 22.043001], [-76.326324, 22.053122], [-76.327141, 22.063257], [-76.327751, 22.073402], [-76.328186, 22.083557], [-76.328423, 22.093718], [-76.687599, 22.105019], [-76.687408, 22.120987], [-76.68692, 22.13695], [-76.686127, 22.152903], [-76.685036, 22.16884], [-76.683647, 22.184757], [-76.681953, 22.200651], [-76.679962, 22.216513], [-76.677673, 22.23234], [-76.675079, 22.248129], [-76.672195, 22.263874], [-76.669014, 22.27957], [-76.665527, 22.295208], [-76.661758, 22.310791], [-76.657684, 22.326311], [-76.65332, 22.341761], [-76.648666, 22.35714], [-76.643715, 22.37244], [-76.638489, 22.387659], [-76.632965, 22.402792], [-76.627151, 22.417831], [-76.621063, 22.432774], [-76.614693, 22.447617], [-76.608032, 22.462355], [-76.601097, 22.476982], [-76.593887, 22.491495], [-76.586403, 22.505888], [-76.578644, 22.520159], [-76.570618, 22.534304], [-76.562325, 22.548313], [-76.553764, 22.562191], [-76.544937, 22.575924], [-76.535858, 22.589514], [-76.526512, 22.602955], [-76.516922, 22.616241], [-76.507072, 22.629372], [-76.496979, 22.642344], [-76.486641, 22.655146], [-76.476051, 22.66778], [-76.465233, 22.680243], [-76.45417, 22.692528], [-76.442886, 22.704632], [-76.431358, 22.716551], [-76.419617, 22.728283], [-76.407646, 22.739826], [-76.395462, 22.751169], [-76.383057, 22.762314], [-76.370445, 22.773258], [-76.35762, 22.783997], [-76.344604, 22.794527], [-76.331383, 22.804844], [-76.317963, 22.814943], [-76.304352, 22.824827], [-76.290558, 22.834488], [-76.276573, 22.843925], [-76.262421, 22.853134], [-76.248085, 22.862114], [-76.233589, 22.870859], [-76.218918, 22.87937], [-76.204094, 22.88764], [-76.18911, 22.895672], [-76.173981, 22.903458], [-76.158691, 22.910999], [-76.143272, 22.918293], [-76.127708, 22.925337], [-76.112015, 22.932125], [-76.096191, 22.93866], [-76.080246, 22.944939], [-76.064186, 22.950956], [-76.048012, 22.956715], [-76.031723, 22.962212], [-76.015343, 22.967443], [-75.998856, 22.972408], [-75.982277, 22.977108], [-75.965607, 22.981539], [-75.94886, 22.985697], [-75.932037, 22.989586], [-75.915138, 22.993202], [-75.898178, 22.996546], [-75.881157, 22.999611], [-75.864075, 23.002401], [-75.846939, 23.004915], [-75.829758, 23.007153], [-75.812538, 23.009113], [-75.795288, 23.010794], [-75.778008, 23.012194], [-75.760696, 23.013317], [-75.74337, 23.014156], [-75.726036, 23.014719], [-75.708687, 23.014999], [-75.689735, 23.18136]]], \"type\": \"Polygon\"}, \"properties\": {\"shape\": \"Prediction\"}, \"type\": \"Feature\"}"
      ]
     },
     "execution_count": 17,
     "metadata": {},
     "output_type": "execute_result"
    }
   ],
   "source": [
    "radius_data[5][0]"
   ]
  },
  {
   "cell_type": "code",
   "execution_count": 18,
   "metadata": {},
   "outputs": [
    {
     "ename": "ValueError",
     "evalue": "max() arg is an empty sequence",
     "output_type": "error",
     "traceback": [
      "\u001b[0;31m---------------------------------------------------------------------------\u001b[0m",
      "\u001b[0;31mValueError\u001b[0m                                Traceback (most recent call last)",
      "\u001b[0;32m<ipython-input-15-3e5a145bd287>\u001b[0m in \u001b[0;36m__calc_circle_weight\u001b[0;34m(self, day, **kwargs)\u001b[0m\n\u001b[1;32m     72\u001b[0m         \u001b[0;32mtry\u001b[0m\u001b[0;34m:\u001b[0m\u001b[0;34m\u001b[0m\u001b[0m\n\u001b[0;32m---> 73\u001b[0;31m             \u001b[0;32mif\u001b[0m \u001b[0;34m(\u001b[0m\u001b[0mmax\u001b[0m\u001b[0;34m(\u001b[0m\u001b[0mradius_found\u001b[0m\u001b[0;34m)\u001b[0m \u001b[0;34m==\u001b[0m \u001b[0;36m1\u001b[0m\u001b[0;34m)\u001b[0m\u001b[0;34m:\u001b[0m\u001b[0;34m\u001b[0m\u001b[0m\n\u001b[0m\u001b[1;32m     74\u001b[0m                 \u001b[0mradii_distance_weight\u001b[0m \u001b[0;34m=\u001b[0m \u001b[0;36m0.4\u001b[0m\u001b[0;34m\u001b[0m\u001b[0m\n",
      "\u001b[0;31mValueError\u001b[0m: max() arg is an empty sequence",
      "\nDuring handling of the above exception, another exception occurred:\n",
      "\u001b[0;31mValueError\u001b[0m                                Traceback (most recent call last)",
      "\u001b[0;32m<ipython-input-18-babe1541fc66>\u001b[0m in \u001b[0;36m<module>\u001b[0;34m()\u001b[0m\n\u001b[1;32m      1\u001b[0m \u001b[0;31m# chance of hurricane\u001b[0m\u001b[0;34m\u001b[0m\u001b[0;34m\u001b[0m\u001b[0m\n\u001b[0;32m----> 2\u001b[0;31m \u001b[0mBCG\u001b[0m\u001b[0;34m.\u001b[0m\u001b[0mcalc_risk\u001b[0m\u001b[0;34m(\u001b[0m\u001b[0msuppressPrint\u001b[0m \u001b[0;34m=\u001b[0m \u001b[0;32mTrue\u001b[0m\u001b[0;34m)\u001b[0m\u001b[0;34m\u001b[0m\u001b[0m\n\u001b[0m",
      "\u001b[0;32m<ipython-input-15-3e5a145bd287>\u001b[0m in \u001b[0;36mcalc_risk\u001b[0;34m(self, **kwargs)\u001b[0m\n\u001b[1;32m     90\u001b[0m         \u001b[0;32mfor\u001b[0m \u001b[0mi\u001b[0m \u001b[0;32min\u001b[0m \u001b[0mrange\u001b[0m\u001b[0;34m(\u001b[0m\u001b[0;36m7\u001b[0m\u001b[0;34m)\u001b[0m\u001b[0;34m:\u001b[0m\u001b[0;34m\u001b[0m\u001b[0m\n\u001b[1;32m     91\u001b[0m             \u001b[0msecond_day\u001b[0m \u001b[0;34m=\u001b[0m \u001b[0mself\u001b[0m\u001b[0;34m.\u001b[0m\u001b[0mdate\u001b[0m \u001b[0;34m+\u001b[0m \u001b[0mdatetime\u001b[0m\u001b[0;34m.\u001b[0m\u001b[0mtimedelta\u001b[0m\u001b[0;34m(\u001b[0m\u001b[0mi\u001b[0m\u001b[0;34m)\u001b[0m \u001b[0;31m# increment days\u001b[0m\u001b[0;34m\u001b[0m\u001b[0m\n\u001b[0;32m---> 92\u001b[0;31m             \u001b[0mhurrichance\u001b[0m\u001b[0;34m[\u001b[0m\u001b[0msecond_day\u001b[0m\u001b[0;34m]\u001b[0m \u001b[0;34m=\u001b[0m \u001b[0mself\u001b[0m\u001b[0;34m.\u001b[0m\u001b[0m__calc_chance_hurricane\u001b[0m\u001b[0;34m(\u001b[0m\u001b[0msecond_day\u001b[0m\u001b[0;34m,\u001b[0m \u001b[0;34m**\u001b[0m\u001b[0mkwargs\u001b[0m\u001b[0;34m)\u001b[0m\u001b[0;34m\u001b[0m\u001b[0m\n\u001b[0m\u001b[1;32m     93\u001b[0m         \u001b[0;32mreturn\u001b[0m \u001b[0mpd\u001b[0m\u001b[0;34m.\u001b[0m\u001b[0mDataFrame\u001b[0m\u001b[0;34m(\u001b[0m\u001b[0mhurrichance\u001b[0m\u001b[0;34m,\u001b[0m \u001b[0mindex\u001b[0m \u001b[0;34m=\u001b[0m \u001b[0;34m[\u001b[0m\u001b[0;34m'chance'\u001b[0m\u001b[0;34m]\u001b[0m\u001b[0;34m)\u001b[0m\u001b[0;34m.\u001b[0m\u001b[0mT\u001b[0m\u001b[0;34m\u001b[0m\u001b[0m\n\u001b[1;32m     94\u001b[0m \u001b[0;34m\u001b[0m\u001b[0m\n",
      "\u001b[0;32m<ipython-input-15-3e5a145bd287>\u001b[0m in \u001b[0;36m__calc_chance_hurricane\u001b[0;34m(self, day, **kwargs)\u001b[0m\n\u001b[1;32m     83\u001b[0m     \u001b[0;32mdef\u001b[0m \u001b[0m__calc_chance_hurricane\u001b[0m\u001b[0;34m(\u001b[0m\u001b[0mself\u001b[0m\u001b[0;34m,\u001b[0m \u001b[0mday\u001b[0m\u001b[0;34m,\u001b[0m \u001b[0;34m**\u001b[0m\u001b[0mkwargs\u001b[0m\u001b[0;34m)\u001b[0m\u001b[0;34m:\u001b[0m\u001b[0;34m\u001b[0m\u001b[0m\n\u001b[1;32m     84\u001b[0m         \u001b[0mdistance_weight\u001b[0m \u001b[0;34m=\u001b[0m \u001b[0;34m(\u001b[0m\u001b[0;36m1\u001b[0m \u001b[0;34m-\u001b[0m \u001b[0mself\u001b[0m\u001b[0;34m.\u001b[0m\u001b[0mfind_distance_eye\u001b[0m\u001b[0;34m(\u001b[0m\u001b[0mday\u001b[0m\u001b[0;34m)\u001b[0m\u001b[0;34m/\u001b[0m\u001b[0;36m1000\u001b[0m\u001b[0;34m)\u001b[0m \u001b[0;34m*\u001b[0m \u001b[0;36m0.25\u001b[0m\u001b[0;34m\u001b[0m\u001b[0m\n\u001b[0;32m---> 85\u001b[0;31m         \u001b[0;32mreturn\u001b[0m \u001b[0mdistance_weight\u001b[0m \u001b[0;34m+\u001b[0m \u001b[0mself\u001b[0m\u001b[0;34m.\u001b[0m\u001b[0m__calc_radius_weight\u001b[0m\u001b[0;34m(\u001b[0m\u001b[0mday\u001b[0m\u001b[0;34m,\u001b[0m \u001b[0;34m**\u001b[0m\u001b[0mkwargs\u001b[0m\u001b[0;34m)\u001b[0m \u001b[0;34m+\u001b[0m \u001b[0mself\u001b[0m\u001b[0;34m.\u001b[0m\u001b[0m__calc_circle_weight\u001b[0m\u001b[0;34m(\u001b[0m\u001b[0mday\u001b[0m\u001b[0;34m,\u001b[0m \u001b[0;34m**\u001b[0m\u001b[0mkwargs\u001b[0m\u001b[0;34m)\u001b[0m\u001b[0;34m\u001b[0m\u001b[0m\n\u001b[0m\u001b[1;32m     86\u001b[0m \u001b[0;34m\u001b[0m\u001b[0m\n\u001b[1;32m     87\u001b[0m     \u001b[0;31m# does this for each of the 5 days\u001b[0m\u001b[0;34m\u001b[0m\u001b[0;34m\u001b[0m\u001b[0m\n",
      "\u001b[0;32m<ipython-input-15-3e5a145bd287>\u001b[0m in \u001b[0;36m__calc_circle_weight\u001b[0;34m(self, day, **kwargs)\u001b[0m\n\u001b[1;32m     76\u001b[0m                 \u001b[0mradii_distance_weight\u001b[0m \u001b[0;34m=\u001b[0m \u001b[0;34m(\u001b[0m\u001b[0;36m1\u001b[0m \u001b[0;34m-\u001b[0m \u001b[0mdist\u001b[0m\u001b[0;34m[\u001b[0m\u001b[0mmax\u001b[0m\u001b[0;34m(\u001b[0m\u001b[0mradius_found\u001b[0m\u001b[0;34m)\u001b[0m \u001b[0;34m+\u001b[0m \u001b[0;36m1\u001b[0m\u001b[0;34m]\u001b[0m\u001b[0;34m/\u001b[0m\u001b[0;36m100\u001b[0m\u001b[0;34m)\u001b[0m \u001b[0;34m*\u001b[0m \u001b[0;34m(\u001b[0m\u001b[0;36m0.3\u001b[0m \u001b[0;34m+\u001b[0m \u001b[0;36m0.1\u001b[0m \u001b[0;34m*\u001b[0m \u001b[0mmax\u001b[0m\u001b[0;34m(\u001b[0m\u001b[0mradius_found\u001b[0m\u001b[0;34m)\u001b[0m\u001b[0;34m)\u001b[0m\u001b[0;34m\u001b[0m\u001b[0m\n\u001b[1;32m     77\u001b[0m         \u001b[0;32mexcept\u001b[0m\u001b[0;34m:\u001b[0m \u001b[0;31m# none were found - outside all of the radii\u001b[0m\u001b[0;34m\u001b[0m\u001b[0m\n\u001b[0;32m---> 78\u001b[0;31m             \u001b[0mradii_distance_weight\u001b[0m \u001b[0;34m=\u001b[0m \u001b[0;34m(\u001b[0m\u001b[0;36m1\u001b[0m \u001b[0;34m-\u001b[0m \u001b[0mdist\u001b[0m\u001b[0;34m[\u001b[0m\u001b[0mmax\u001b[0m\u001b[0;34m(\u001b[0m\u001b[0mradius_found\u001b[0m\u001b[0;34m)\u001b[0m \u001b[0;34m+\u001b[0m \u001b[0;36m1\u001b[0m\u001b[0;34m]\u001b[0m\u001b[0;34m/\u001b[0m\u001b[0;36m100\u001b[0m\u001b[0;34m)\u001b[0m \u001b[0;34m*\u001b[0m \u001b[0;36m0.1\u001b[0m\u001b[0;34m\u001b[0m\u001b[0m\n\u001b[0m\u001b[1;32m     79\u001b[0m         \u001b[0;32mreturn\u001b[0m \u001b[0mradii_distance_weight\u001b[0m\u001b[0;34m\u001b[0m\u001b[0m\n\u001b[1;32m     80\u001b[0m \u001b[0;34m\u001b[0m\u001b[0m\n",
      "\u001b[0;31mValueError\u001b[0m: max() arg is an empty sequence"
     ]
    }
   ],
   "source": [
    "# chance of hurricane\n",
    "BCG.calc_risk(suppressPrint = True)"
   ]
  },
  {
   "cell_type": "code",
   "execution_count": null,
   "metadata": {},
   "outputs": [],
   "source": [
    "# most dangerous day\n",
    "BCG.calc_max_hurricane()"
   ]
  },
  {
   "cell_type": "code",
   "execution_count": null,
   "metadata": {},
   "outputs": [],
   "source": [
    "# plot chance of getting owned by Irma\n",
    "def plot_irmachance(city = 'Key West', point = KeyWest, alpha = 0.5):\n",
    "    BCG = Insuricane(point)\n",
    "    hurricane_ts = BCG.calc_risk(suppressPrint = True)\n",
    "    \n",
    "    hurricane_df = hurricane_ts[datetime.date(2017, 9, 9):]\n",
    "    hurricane_df['ewm'] = hurricane_df.ewm(alpha).mean()\n",
    "    hurricane_df = hurricane_df.applymap(lambda x: 100 * x)\n",
    "\n",
    "    sns.set(font_scale = 1.1)\n",
    "    sns.set_style('whitegrid')\n",
    "    plt.figure(figsize = (8, 6))\n",
    "    plt.plot(hurricane_df['chance'], marker = 'o', color = '#4285f4', alpha = 0.75, label = 'Chance of hurricane')\n",
    "    plt.plot(hurricane_df['ewm'], linestyle = '--', color = '#DC143C', alpha = 0.5, label = 'Rolling likelihood')\n",
    "    plt.xticks(rotation = -15)\n",
    "    plt.xlabel('Date')\n",
    "    plt.ylabel('Chance of hurricane')\n",
    "    plt.title('Chance of {} homes destroyed'.format(city))\n",
    "    \n",
    "    plt.plot(BCG.calc_max_hurricane().index.values[0], \n",
    "             BCG.calc_max_hurricane().values[0] * 100, \n",
    "             color = '#4285f4', marker = 's', linestyle = 'none', label='Riskiest day')\n",
    "    \n",
    "    plt.legend()\n",
    "    plt.show()"
   ]
  },
  {
   "cell_type": "code",
   "execution_count": null,
   "metadata": {},
   "outputs": [],
   "source": [
    "plot_irmachance()"
   ]
  },
  {
   "cell_type": "code",
   "execution_count": null,
   "metadata": {},
   "outputs": [],
   "source": []
  }
 ],
 "metadata": {
  "kernelspec": {
   "display_name": "Python 3",
   "language": "python",
   "name": "python3"
  },
  "language_info": {
   "codemirror_mode": {
    "name": "ipython",
    "version": 3
   },
   "file_extension": ".py",
   "mimetype": "text/x-python",
   "name": "python",
   "nbconvert_exporter": "python",
   "pygments_lexer": "ipython3",
   "version": "3.7.0"
  }
 },
 "nbformat": 4,
 "nbformat_minor": 2
}
